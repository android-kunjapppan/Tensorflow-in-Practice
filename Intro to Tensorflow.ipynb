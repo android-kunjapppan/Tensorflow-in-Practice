{
  "nbformat": 4,
  "nbformat_minor": 0,
  "metadata": {
    "colab": {
      "name": "Tensorflow_1.ipynb",
      "provenance": [],
      "mount_file_id": "1IVx3pcOk6aYv7ImN2HzWY0jqxgQIffM_",
      "authorship_tag": "ABX9TyM/TRgupmf1ufF3rr4GrqDI",
      "include_colab_link": true
    },
    "kernelspec": {
      "name": "python3",
      "display_name": "Python 3"
    }
  },
  "cells": [
    {
      "cell_type": "markdown",
      "metadata": {
        "id": "view-in-github",
        "colab_type": "text"
      },
      "source": [
        "<a href=\"https://colab.research.google.com/github/android-kunjapppan/Tensorflow-in-Practice/blob/master/Intro%20to%20Tensorflow.ipynb\" target=\"_parent\"><img src=\"https://colab.research.google.com/assets/colab-badge.svg\" alt=\"Open In Colab\"/></a>"
      ]
    },
    {
      "cell_type": "code",
      "metadata": {
        "id": "ltL6v7SWrs0C",
        "colab_type": "code",
        "colab": {}
      },
      "source": [
        "import tensorflow as tf\n",
        "\n",
        "\n",
        "mnist = tf.keras.datasets.fashion_mnist"
      ],
      "execution_count": null,
      "outputs": []
    },
    {
      "cell_type": "code",
      "metadata": {
        "id": "5mBeKpj30KVw",
        "colab_type": "code",
        "colab": {}
      },
      "source": [
        "(x_train, y_train),(x_test, y_test) = mnist.load_data()\n"
      ],
      "execution_count": null,
      "outputs": []
    },
    {
      "cell_type": "code",
      "metadata": {
        "id": "inLxkVaa0G49",
        "colab_type": "code",
        "colab": {}
      },
      "source": [
        "class myCallback(tf.keras.callbacks.Callback):\n",
        "  def on_epoch_end(self, epoch, logs={}):\n",
        "    if(logs.get('accuracy')>0.99):\n",
        "      print(\"\\nReached 99% accuracy so cancelling training!\")\n",
        "      self.model.stop_training = True\n",
        "\n",
        "callbacks=myCallback()"
      ],
      "execution_count": null,
      "outputs": []
    },
    {
      "cell_type": "code",
      "metadata": {
        "id": "RAVIMlD10SWY",
        "colab_type": "code",
        "colab": {}
      },
      "source": [
        "model = tf.keras.models.Sequential([\n",
        "  tf.keras.layers.Dense(128, activation='relu',input_shape=(28, 28)),\n",
        "  tf.keras.layers.Dense(512,activation='relu'),\n",
        "  tf.keras.layers.Flatten(),\n",
        "  tf.keras.layers.Dense(10, activation='softmax')\n",
        "])"
      ],
      "execution_count": null,
      "outputs": []
    },
    {
      "cell_type": "code",
      "metadata": {
        "id": "uVMFKorR0Uza",
        "colab_type": "code",
        "colab": {}
      },
      "source": [
        "model.compile(optimizer='adam',\n",
        "              loss='sparse_categorical_crossentropy',\n",
        "              metrics=['accuracy'])"
      ],
      "execution_count": null,
      "outputs": []
    },
    {
      "cell_type": "code",
      "metadata": {
        "id": "wasWjnv-0XUI",
        "colab_type": "code",
        "colab": {
          "base_uri": "https://localhost:8080/",
          "height": 381
        },
        "outputId": "056e32ba-f3be-4924-d260-718ea7c9ae24"
      },
      "source": [
        "model.fit(x_train, y_train, epochs=10, callbacks=[callbacks])"
      ],
      "execution_count": null,
      "outputs": [
        {
          "output_type": "stream",
          "text": [
            "Epoch 1/10\n",
            "1875/1875 [==============================] - 27s 14ms/step - loss: 0.4107 - accuracy: 0.8532\n",
            "Epoch 2/10\n",
            "1875/1875 [==============================] - 27s 14ms/step - loss: 0.3108 - accuracy: 0.8881\n",
            "Epoch 3/10\n",
            "1875/1875 [==============================] - 27s 14ms/step - loss: 0.2766 - accuracy: 0.8988\n",
            "Epoch 4/10\n",
            "1875/1875 [==============================] - 27s 14ms/step - loss: 0.2501 - accuracy: 0.9084\n",
            "Epoch 5/10\n",
            "1875/1875 [==============================] - 29s 15ms/step - loss: 0.2267 - accuracy: 0.9168\n",
            "Epoch 6/10\n",
            "1875/1875 [==============================] - 27s 14ms/step - loss: 0.2046 - accuracy: 0.9251\n",
            "Epoch 7/10\n",
            "1875/1875 [==============================] - 27s 14ms/step - loss: 0.1865 - accuracy: 0.9311\n",
            "Epoch 8/10\n",
            "1875/1875 [==============================] - 26s 14ms/step - loss: 0.1675 - accuracy: 0.9382\n",
            "Epoch 9/10\n",
            "1875/1875 [==============================] - 26s 14ms/step - loss: 0.1526 - accuracy: 0.9436\n",
            "Epoch 10/10\n",
            "1875/1875 [==============================] - 26s 14ms/step - loss: 0.1386 - accuracy: 0.9497\n"
          ],
          "name": "stdout"
        },
        {
          "output_type": "execute_result",
          "data": {
            "text/plain": [
              "<tensorflow.python.keras.callbacks.History at 0x7ff13200edd8>"
            ]
          },
          "metadata": {
            "tags": []
          },
          "execution_count": 59
        }
      ]
    },
    {
      "cell_type": "code",
      "metadata": {
        "id": "xU-fCyBIzwex",
        "colab_type": "code",
        "colab": {
          "base_uri": "https://localhost:8080/",
          "height": 52
        },
        "outputId": "baf5d79e-053d-45c8-c713-8cb93f163e55"
      },
      "source": [
        "model.evaluate(x_test,y_test)"
      ],
      "execution_count": null,
      "outputs": [
        {
          "output_type": "stream",
          "text": [
            "313/313 [==============================] - 2s 5ms/step - loss: 0.3621 - accuracy: 0.8908\n"
          ],
          "name": "stdout"
        },
        {
          "output_type": "execute_result",
          "data": {
            "text/plain": [
              "[0.36207130551338196, 0.8907999992370605]"
            ]
          },
          "metadata": {
            "tags": []
          },
          "execution_count": 65
        }
      ]
    },
    {
      "cell_type": "code",
      "metadata": {
        "id": "Fpw8KH9J2zWz",
        "colab_type": "code",
        "colab": {}
      },
      "source": [
        ""
      ],
      "execution_count": null,
      "outputs": []
    },
    {
      "cell_type": "markdown",
      "metadata": {
        "id": "sWNTwMuPGISj",
        "colab_type": "text"
      },
      "source": [
        "**Using Convolutions**"
      ]
    },
    {
      "cell_type": "code",
      "metadata": {
        "id": "Mfn5zspYETAv",
        "colab_type": "code",
        "colab": {}
      },
      "source": [
        ""
      ],
      "execution_count": null,
      "outputs": []
    },
    {
      "cell_type": "code",
      "metadata": {
        "id": "luJnP4BDES5q",
        "colab_type": "code",
        "colab": {}
      },
      "source": [
        "x_train = x_train.reshape(60000,28,28,1)\n",
        "x_test = x_test.reshape(10000,28,28,1)\n",
        "x_train, x_test = x_train / 255.0, x_test / 255.0\n"
      ],
      "execution_count": null,
      "outputs": []
    },
    {
      "cell_type": "code",
      "metadata": {
        "id": "9MIh0-L_28k3",
        "colab_type": "code",
        "colab": {}
      },
      "source": [
        "Conv_model = tf.keras.models.Sequential([\n",
        "                                         tf.keras.layers.Conv2D(64,(3,3),activation='relu',input_shape=(28,28,1)),\n",
        "                                         tf.keras.layers.MaxPooling2D((2,2)),\n",
        "                                         tf.keras.layers.Conv2D(128,(3,3),activation='relu'),\n",
        "                                         tf.keras.layers.MaxPooling2D((2,2)),\n",
        "                                         tf.keras.layers.Flatten(),\n",
        "                                         tf.keras.layers.Dense(64,activation='relu'),\n",
        "                                         tf.keras.layers.Dense(10,activation='softmax')\n",
        "])"
      ],
      "execution_count": null,
      "outputs": []
    },
    {
      "cell_type": "code",
      "metadata": {
        "id": "Um_RQpzPD5XC",
        "colab_type": "code",
        "colab": {}
      },
      "source": [
        "Conv_model.compile(optimizer='adam',loss='sparse_categorical_crossentropy',metrics =['accuracy'])"
      ],
      "execution_count": null,
      "outputs": []
    },
    {
      "cell_type": "code",
      "metadata": {
        "id": "NGNqJhhMEERr",
        "colab_type": "code",
        "colab": {
          "base_uri": "https://localhost:8080/",
          "height": 555
        },
        "outputId": "fae01456-ef01-47c7-f748-c89a5441979d"
      },
      "source": [
        "Conv_model.fit(x_train,y_train, epochs =15, callbacks=[callbacks])"
      ],
      "execution_count": null,
      "outputs": [
        {
          "output_type": "stream",
          "text": [
            "Epoch 1/15\n",
            "1875/1875 [==============================] - 122s 65ms/step - loss: 0.4379 - accuracy: 0.8403\n",
            "Epoch 2/15\n",
            "1875/1875 [==============================] - 121s 64ms/step - loss: 0.2922 - accuracy: 0.8931\n",
            "Epoch 3/15\n",
            "1875/1875 [==============================] - 120s 64ms/step - loss: 0.2477 - accuracy: 0.9086\n",
            "Epoch 4/15\n",
            "1875/1875 [==============================] - 120s 64ms/step - loss: 0.2143 - accuracy: 0.9207\n",
            "Epoch 5/15\n",
            "1875/1875 [==============================] - 122s 65ms/step - loss: 0.1861 - accuracy: 0.9311\n",
            "Epoch 6/15\n",
            "1875/1875 [==============================] - 120s 64ms/step - loss: 0.1626 - accuracy: 0.9385\n",
            "Epoch 7/15\n",
            "1875/1875 [==============================] - 119s 64ms/step - loss: 0.1409 - accuracy: 0.9475\n",
            "Epoch 8/15\n",
            "1875/1875 [==============================] - 120s 64ms/step - loss: 0.1247 - accuracy: 0.9532\n",
            "Epoch 9/15\n",
            "1875/1875 [==============================] - 120s 64ms/step - loss: 0.1069 - accuracy: 0.9601\n",
            "Epoch 10/15\n",
            "1875/1875 [==============================] - 122s 65ms/step - loss: 0.0972 - accuracy: 0.9633\n",
            "Epoch 11/15\n",
            "1875/1875 [==============================] - 120s 64ms/step - loss: 0.0832 - accuracy: 0.9687\n",
            "Epoch 12/15\n",
            "1875/1875 [==============================] - 120s 64ms/step - loss: 0.0729 - accuracy: 0.9722\n",
            "Epoch 13/15\n",
            "1875/1875 [==============================] - 120s 64ms/step - loss: 0.0654 - accuracy: 0.9748\n",
            "Epoch 14/15\n",
            "1875/1875 [==============================] - 120s 64ms/step - loss: 0.0597 - accuracy: 0.9769\n",
            "Epoch 15/15\n",
            "1875/1875 [==============================] - 120s 64ms/step - loss: 0.0513 - accuracy: 0.9812\n"
          ],
          "name": "stdout"
        },
        {
          "output_type": "execute_result",
          "data": {
            "text/plain": [
              "<tensorflow.python.keras.callbacks.History at 0x7ff131f80208>"
            ]
          },
          "metadata": {
            "tags": []
          },
          "execution_count": 75
        }
      ]
    },
    {
      "cell_type": "code",
      "metadata": {
        "id": "K5OIeFnOEMQp",
        "colab_type": "code",
        "colab": {
          "base_uri": "https://localhost:8080/",
          "height": 52
        },
        "outputId": "832b7f68-2d3d-49b3-f8d0-0cc3a041163a"
      },
      "source": [
        "Conv_model.evaluate(x_test,y_test)"
      ],
      "execution_count": null,
      "outputs": [
        {
          "output_type": "stream",
          "text": [
            "313/313 [==============================] - 6s 18ms/step - loss: 0.4051 - accuracy: 0.9104\n"
          ],
          "name": "stdout"
        },
        {
          "output_type": "execute_result",
          "data": {
            "text/plain": [
              "[0.4050523042678833, 0.9103999733924866]"
            ]
          },
          "metadata": {
            "tags": []
          },
          "execution_count": 76
        }
      ]
    },
    {
      "cell_type": "code",
      "metadata": {
        "id": "3Al2tmTiGLgi",
        "colab_type": "code",
        "colab": {}
      },
      "source": [
        ""
      ],
      "execution_count": null,
      "outputs": []
    },
    {
      "cell_type": "markdown",
      "metadata": {
        "id": "jeuVl9BxNzlO",
        "colab_type": "text"
      },
      "source": [
        "**Happy Or Sad**"
      ]
    },
    {
      "cell_type": "code",
      "metadata": {
        "id": "sqhxbSkUOJCm",
        "colab_type": "code",
        "colab": {
          "base_uri": "https://localhost:8080/",
          "height": 228
        },
        "outputId": "e6f5d4df-3835-4dcc-c3af-d50ba6904e1e"
      },
      "source": [
        "import os\n",
        "import zipfile\n",
        "\n",
        "\n",
        "DESIRED_ACCURACY = 0.999\n",
        "\n",
        "!wget --no-check-certificate \\\n",
        "    \"https://storage.googleapis.com/laurencemoroney-blog.appspot.com/happy-or-sad.zip\" \\\n",
        "    -O \"/tmp/happy-or-sad.zip\"\n",
        "\n",
        "zip_ref = zipfile.ZipFile(\"/tmp/happy-or-sad.zip\", 'r')\n",
        "zip_ref.extractall(\"/tmp/h-or-s\")\n",
        "zip_ref.close()\n"
      ],
      "execution_count": null,
      "outputs": [
        {
          "output_type": "stream",
          "text": [
            "--2020-07-06 17:42:17--  https://storage.googleapis.com/laurencemoroney-blog.appspot.com/happy-or-sad.zip\n",
            "Resolving storage.googleapis.com (storage.googleapis.com)... 74.125.203.128, 74.125.204.128, 64.233.188.128, ...\n",
            "Connecting to storage.googleapis.com (storage.googleapis.com)|74.125.203.128|:443... connected.\n",
            "HTTP request sent, awaiting response... 200 OK\n",
            "Length: 2670333 (2.5M) [application/zip]\n",
            "Saving to: ‘/tmp/happy-or-sad.zip’\n",
            "\n",
            "\r/tmp/happy-or-sad.z   0%[                    ]       0  --.-KB/s               \r/tmp/happy-or-sad.z 100%[===================>]   2.55M  --.-KB/s    in 0.02s   \n",
            "\n",
            "2020-07-06 17:42:17 (121 MB/s) - ‘/tmp/happy-or-sad.zip’ saved [2670333/2670333]\n",
            "\n"
          ],
          "name": "stdout"
        }
      ]
    },
    {
      "cell_type": "code",
      "metadata": {
        "id": "V6pGpzJpOKRM",
        "colab_type": "code",
        "colab": {}
      },
      "source": [
        "Conv_model_2 = tf.keras.models.Sequential([\n",
        "                                         tf.keras.layers.Conv2D(16,(3,3),activation='relu',input_shape=(150,150,3)),\n",
        "                                         tf.keras.layers.MaxPooling2D(2,2),\n",
        "                                         tf.keras.layers.Conv2D(32,(3,3),activation='relu'),\n",
        "                                         tf.keras.layers.MaxPooling2D(2,2),\n",
        "                                         tf.keras.layers.Conv2D(32,(3,3),activation='relu'),\n",
        "                                         tf.keras.layers.MaxPooling2D(2,2),\n",
        "                                         tf.keras.layers.Flatten(),\n",
        "                                         tf.keras.layers.Dense(512,activation='relu'),\n",
        "                                         tf.keras.layers.Dense(1,activation='sigmoid')\n",
        "])"
      ],
      "execution_count": null,
      "outputs": []
    },
    {
      "cell_type": "code",
      "metadata": {
        "id": "IKmuCazYOtjk",
        "colab_type": "code",
        "colab": {}
      },
      "source": [
        "from tensorflow.keras.optimizers import RMSprop\n",
        "\n",
        "\n",
        "Conv_model_2.compile(optimizer=RMSprop(lr=0.001),loss ='binary_crossentropy',metrics=['accuracy'])"
      ],
      "execution_count": null,
      "outputs": []
    },
    {
      "cell_type": "code",
      "metadata": {
        "id": "yBuTwgjdPCbC",
        "colab_type": "code",
        "colab": {
          "base_uri": "https://localhost:8080/",
          "height": 35
        },
        "outputId": "da90b013-4ee7-42a8-d5de-5d2f612af667"
      },
      "source": [
        "from tensorflow.keras.preprocessing.image import ImageDataGenerator\n",
        "\n",
        "train_datagen= ImageDataGenerator(rescale=1/255,\n",
        "                                  )\n",
        "\n",
        "train_generator = train_datagen.flow_from_directory(\"/tmp/h-or-s\",\n",
        "                                                    target_size=(150,150),\n",
        "                                                    batch_size =10,\n",
        "                                                    class_mode ='binary')"
      ],
      "execution_count": null,
      "outputs": [
        {
          "output_type": "stream",
          "text": [
            "Found 80 images belonging to 2 classes.\n"
          ],
          "name": "stdout"
        }
      ]
    },
    {
      "cell_type": "code",
      "metadata": {
        "id": "DB2y5Qi7PHs_",
        "colab_type": "code",
        "colab": {
          "base_uri": "https://localhost:8080/",
          "height": 364
        },
        "outputId": "6b94156b-b7fe-4800-9c0a-93d680830bc3"
      },
      "source": [
        "history_2 = Conv_model_2.fit_generator(train_generator, steps_per_epoch=2,verbose =1, epochs=15, shuffle=True, callbacks=[callbacks])"
      ],
      "execution_count": null,
      "outputs": [
        {
          "output_type": "stream",
          "text": [
            "Epoch 1/15\n",
            "2/2 [==============================] - 0s 108ms/step - loss: 0.9540 - accuracy: 0.4500\n",
            "Epoch 2/15\n",
            "2/2 [==============================] - 0s 110ms/step - loss: 0.5847 - accuracy: 0.7000\n",
            "Epoch 3/15\n",
            "2/2 [==============================] - 0s 110ms/step - loss: 0.4733 - accuracy: 0.6500\n",
            "Epoch 4/15\n",
            "2/2 [==============================] - 0s 109ms/step - loss: 0.3831 - accuracy: 0.7000\n",
            "Epoch 5/15\n",
            "2/2 [==============================] - 0s 108ms/step - loss: 0.2541 - accuracy: 0.9500\n",
            "Epoch 6/15\n",
            "2/2 [==============================] - 0s 109ms/step - loss: 0.2765 - accuracy: 0.9000\n",
            "Epoch 7/15\n",
            "2/2 [==============================] - 0s 110ms/step - loss: 0.3840 - accuracy: 0.8500\n",
            "Epoch 8/15\n",
            "2/2 [==============================] - 0s 108ms/step - loss: 0.1950 - accuracy: 0.9500\n",
            "Epoch 9/15\n",
            "2/2 [==============================] - ETA: 0s - loss: 0.0625 - accuracy: 1.0000\n",
            "Reached 99% accuracy so cancelling training!\n",
            "2/2 [==============================] - 0s 111ms/step - loss: 0.0625 - accuracy: 1.0000\n"
          ],
          "name": "stdout"
        }
      ]
    },
    {
      "cell_type": "code",
      "metadata": {
        "id": "s2RvmB-6QVNc",
        "colab_type": "code",
        "colab": {}
      },
      "source": [
        ""
      ],
      "execution_count": null,
      "outputs": []
    }
  ]
}